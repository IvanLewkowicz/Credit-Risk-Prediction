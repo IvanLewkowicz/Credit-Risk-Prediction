{
 "cells": [
  {
   "cell_type": "markdown",
   "id": "d1a56046",
   "metadata": {},
   "source": [
    "# Intro\n",
    "Voy a hacer un proyecto basico basado en la competicion de Kaggle [Give Me Some Credit](https://www.kaggle.com/competitions/GiveMeSomeCredit/data) donde lo que buscamos es predecir la probabilidad de que alguien muestre estres financiero en los proximos dos años."
   ]
  },
  {
   "cell_type": "markdown",
   "id": "cf1560d9",
   "metadata": {},
   "source": [
    "# Imports"
   ]
  },
  {
   "cell_type": "code",
   "execution_count": 1,
   "id": "72e4a526",
   "metadata": {},
   "outputs": [],
   "source": [
    "import pandas as pd\n",
    "import numpy as np\n",
    "import seaborn as sns"
   ]
  },
  {
   "cell_type": "markdown",
   "id": "ed56d8d6",
   "metadata": {},
   "source": [
    "# Load\n",
    "Vamos a cargar los archivos que tenemos para ver siquiera que pinta tienen. Los archivos que venian acompañados de la competicion son:\n",
    "    - rejected: Tenemos informacion sobre los creditos que fueron rechazados\n",
    "    - acepted: Informacion sobre los creditos que fueron aceptados\n"
   ]
  },
  {
   "cell_type": "code",
   "execution_count": 9,
   "id": "f861a9cb",
   "metadata": {},
   "outputs": [],
   "source": [
    "df_test = pd.read_csv(\"../data/raw/cs-test.csv\")\n",
    "df_train = pd.read_csv(\"../data/raw/cs-training.csv\")\n",
    "data_dictionary = pd.read_excel(\"../data/raw/Data Dictionary.xlsx\",sheet_name=0,header=1)"
   ]
  },
  {
   "cell_type": "markdown",
   "id": "e3103c69",
   "metadata": {},
   "source": [
    "# EDA"
   ]
  },
  {
   "cell_type": "code",
   "execution_count": 12,
   "id": "45c04bcc",
   "metadata": {},
   "outputs": [
    {
     "name": "stdout",
     "output_type": "stream",
     "text": [
      "|    | Variable Name                        | Description                                                                                                                                              | Type       |\n",
      "|---:|:-------------------------------------|:---------------------------------------------------------------------------------------------------------------------------------------------------------|:-----------|\n",
      "|  0 | SeriousDlqin2yrs                     | Person experienced 90 days past due delinquency or worse                                                                                                 | Y/N        |\n",
      "|  1 | RevolvingUtilizationOfUnsecuredLines | Total balance on credit cards and personal lines of credit except real estate and no installment debt like car loans divided by the sum of credit limits | percentage |\n",
      "|  2 | age                                  | Age of borrower in years                                                                                                                                 | integer    |\n",
      "|  3 | NumberOfTime30-59DaysPastDueNotWorse | Number of times borrower has been 30-59 days past due but no worse in the last 2 years.                                                                  | integer    |\n",
      "|  4 | DebtRatio                            | Monthly debt payments, alimony,living costs divided by monthy gross income                                                                               | percentage |\n",
      "|  5 | MonthlyIncome                        | Monthly income                                                                                                                                           | real       |\n",
      "|  6 | NumberOfOpenCreditLinesAndLoans      | Number of Open loans (installment like car loan or mortgage) and Lines of credit (e.g. credit cards)                                                     | integer    |\n",
      "|  7 | NumberOfTimes90DaysLate              | Number of times borrower has been 90 days or more past due.                                                                                              | integer    |\n",
      "|  8 | NumberRealEstateLoansOrLines         | Number of mortgage and real estate loans including home equity lines of credit                                                                           | integer    |\n",
      "|  9 | NumberOfTime60-89DaysPastDueNotWorse | Number of times borrower has been 60-89 days past due but no worse in the last 2 years.                                                                  | integer    |\n",
      "| 10 | NumberOfDependents                   | Number of dependents in family excluding themselves (spouse, children etc.)                                                                              | integer    |\n"
     ]
    }
   ],
   "source": [
    "print(data_dictionary.to_markdown())"
   ]
  },
  {
   "cell_type": "code",
   "execution_count": 17,
   "id": "03d3b792",
   "metadata": {},
   "outputs": [
    {
     "data": {
      "text/plain": [
       "Index(['Unnamed: 0', 'SeriousDlqin2yrs',\n",
       "       'RevolvingUtilizationOfUnsecuredLines', 'age',\n",
       "       'NumberOfTime30-59DaysPastDueNotWorse', 'DebtRatio', 'MonthlyIncome',\n",
       "       'NumberOfOpenCreditLinesAndLoans', 'NumberOfTimes90DaysLate',\n",
       "       'NumberRealEstateLoansOrLines', 'NumberOfTime60-89DaysPastDueNotWorse',\n",
       "       'NumberOfDependents'],\n",
       "      dtype='object')"
      ]
     },
     "execution_count": 17,
     "metadata": {},
     "output_type": "execute_result"
    }
   ],
   "source": [
    "df_train.columns"
   ]
  },
  {
   "cell_type": "code",
   "execution_count": 20,
   "id": "41c357cc",
   "metadata": {},
   "outputs": [],
   "source": [
    "df_train = df_train.drop(\"Unnamed: 0\",axis=1)"
   ]
  },
  {
   "cell_type": "code",
   "execution_count": 22,
   "id": "21458904",
   "metadata": {},
   "outputs": [
    {
     "data": {
      "text/plain": [
       "<Axes: xlabel='SeriousDlqin2yrs'>"
      ]
     },
     "execution_count": 22,
     "metadata": {},
     "output_type": "execute_result"
    },
    {
     "data": {
      "image/png": "[encoded data removed]",
      "text/plain": [
       "<Figure size 640x480 with 1 Axes>"
      ]
     },
     "metadata": {},
     "output_type": "display_data"
    }
   ],
   "source": [
    "sns.barplot(\n",
    "    data=df_train,\n",
    "    x= \"SeriousDlqin2yrs\",\n",
    "    hue = \"SeriousDlqin2yrs\"\n",
    ")"
   ]
  }
 ],
 "metadata": {
  "kernelspec": {
   "display_name": "credit-risk-prediction",
   "language": "python",
   "name": "python3"
  },
  "language_info": {
   "codemirror_mode": {
    "name": "ipython",
    "version": 3
   },
   "file_extension": ".py",
   "mimetype": "text/x-python",
   "name": "python",
   "nbconvert_exporter": "python",
   "pygments_lexer": "ipython3",
   "version": "3.10.19"
  }
 },
 "nbformat": 4,
 "nbformat_minor": 5
}
